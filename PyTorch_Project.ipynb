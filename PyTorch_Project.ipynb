{
 "cells": [
  {
   "cell_type": "markdown",
   "metadata": {},
   "source": [
    "## Multi-Class Logistic Regression Model for Cell Annotation\n",
    "#### Using data from a multiple sclerosis dataset as an example"
   ]
  },
  {
   "cell_type": "code",
   "execution_count": 1,
   "metadata": {},
   "outputs": [],
   "source": [
    "import torch\n",
    "import torch.nn as nn\n",
    "from torch.utils.data import Dataset, DataLoader\n",
    "from sklearn.preprocessing import LabelEncoder\n",
    "import scanpy as sc\n",
    "import time"
   ]
  },
  {
   "cell_type": "code",
   "execution_count": 8,
   "metadata": {},
   "outputs": [
    {
     "name": "stdout",
     "output_type": "stream",
     "text": [
      "data imported\n"
     ]
    }
   ],
   "source": [
    "# Import data\n",
    "adata_train = sc.read('ms_train_data.h5ad')\n",
    "adata_test = sc.read('ms_test_data.h5ad')\n",
    "train_celltype_column = \"Factor Value[inferred cell type - authors labels]\"\n",
    "test_celltype_column = \"Factor Value[inferred cell type - authors labels]\"\n",
    "print('data imported')"
   ]
  },
  {
   "cell_type": "code",
   "execution_count": 10,
   "metadata": {},
   "outputs": [],
   "source": [
    "# Device configs\n",
    "device = torch.device('cuda' if torch.cuda.is_available() else 'cpu')\n",
    "\n",
    "# Hyperparameters\n",
    "num_epochs = 50\n",
    "learning_rate = 0.001\n",
    "input_size = len(adata_train.var_names)\n",
    "hidden_size = 200\n",
    "output_size = len(adata_train.obs[train_celltype_column].unique())\n",
    "batch_size = 200"
   ]
  },
  {
   "cell_type": "code",
   "execution_count": 11,
   "metadata": {},
   "outputs": [],
   "source": [
    "# Transform\n",
    "class adataDataset(Dataset):\n",
    "    def __init__(self,data,labels):\n",
    "        super(adataDataset,self).__init__()\n",
    "        data = data.X.toarray()\n",
    "        self.data = torch.tensor(data, dtype=torch.float32)\n",
    "        self.labels = torch.tensor(LabelEncoder().fit_transform(labels), dtype=torch.long)\n",
    "    \n",
    "    def __len__(self):\n",
    "        return self.data.shape[0]\n",
    "    \n",
    "    def __getitem__(self, index):\n",
    "        return self.data[index], self.labels[index]\n",
    "    \n",
    "train_data = adataDataset(adata_train,adata_train.obs[train_celltype_column].values)\n",
    "test_data = adataDataset(adata_test,adata_test.obs[test_celltype_column].values)\n",
    "\n",
    "train_loader = DataLoader(train_data, batch_size=batch_size, shuffle=True)\n",
    "test_loader = DataLoader(test_data, batch_size=batch_size)"
   ]
  },
  {
   "cell_type": "code",
   "execution_count": 12,
   "metadata": {},
   "outputs": [],
   "source": [
    "# Define model\n",
    "class NeuralNet(nn.Module):\n",
    "    def __init__(self,input_size,hidden_size,output_size):\n",
    "        super(NeuralNet,self).__init__()\n",
    "        self.linear1 = nn.Linear(input_size,hidden_size)\n",
    "        self.relu = nn.ReLU()\n",
    "        self.linear2 = nn.Linear(hidden_size,output_size)\n",
    "\n",
    "    def forward(self,x):\n",
    "        out = self.linear1(x)\n",
    "        out = self.relu(out)\n",
    "        out = self.linear2(out)\n",
    "        return out\n",
    "    \n",
    "model = NeuralNet(input_size,hidden_size,output_size)\n",
    "if torch.cuda.device_count() > 1:\n",
    "    device_indices = [0,1,2]\n",
    "    model = nn.DataParallel(model, device_ids=device_indices)\n",
    "model.to(device)\n",
    "\n",
    "# Define loss and optimizer\n",
    "criterion = nn.CrossEntropyLoss()\n",
    "optimizer = torch.optim.AdamW(model.parameters(), lr=learning_rate, weight_decay=0.0001)"
   ]
  },
  {
   "cell_type": "code",
   "execution_count": 13,
   "metadata": {},
   "outputs": [
    {
     "name": "stdout",
     "output_type": "stream",
     "text": [
      "Epoch: 1 Step: 20/68 Loss: 0.778 Time: 0.0m 0.1s\n",
      "Epoch: 1 Step: 40/68 Loss: 0.380 Time: 0.0m 0.2s\n",
      "Epoch: 1 Step: 60/68 Loss: 0.497 Time: 0.0m 0.3s\n",
      "Epoch: 2 Step: 20/68 Loss: 0.218 Time: 0.0m 0.4s\n",
      "Epoch: 2 Step: 40/68 Loss: 0.213 Time: 0.0m 0.5s\n",
      "...",
      "Epoch: 48 Step: 60/68 Loss: 0.000 Time: 0.0m 14.3s\n",
      "Epoch: 49 Step: 20/68 Loss: 0.000 Time: 0.0m 14.4s\n",
      "Epoch: 49 Step: 40/68 Loss: 0.000 Time: 0.0m 14.5s\n",
      "Epoch: 49 Step: 60/68 Loss: 0.000 Time: 0.0m 14.6s\n",
      "Epoch: 50 Step: 20/68 Loss: 0.000 Time: 0.0m 14.7s\n",
      "Epoch: 50 Step: 40/68 Loss: 0.000 Time: 0.0m 14.8s\n",
      "Epoch: 50 Step: 60/68 Loss: 0.000 Time: 0.0m 14.9s\n"
     ]
    }
   ],
   "source": [
    "# Training loop\n",
    "steps_in_epoch = len(train_loader)\n",
    "since = time.time()\n",
    "for epoch in range(num_epochs):\n",
    "    for i, (counts, labels) in enumerate(train_loader):\n",
    "        counts = counts.to(device)\n",
    "        labels = labels.to(device)\n",
    "\n",
    "        # forward\n",
    "        outputs = model(counts)\n",
    "        loss = criterion(outputs, labels)\n",
    "\n",
    "        # backwards\n",
    "        optimizer.zero_grad()\n",
    "        loss.backward()\n",
    "        optimizer.step()\n",
    "\n",
    "        if (i+1)%20 == 0:\n",
    "            time_elapsed = time.time()-since\n",
    "            print(f'Epoch: {epoch+1} Step: {i+1}/{steps_in_epoch} Loss: {loss.item():.3f} Time: {time_elapsed//60}m {time_elapsed%60:.1f}s')"
   ]
  },
  {
   "cell_type": "code",
   "execution_count": 14,
   "metadata": {},
   "outputs": [
    {
     "name": "stdout",
     "output_type": "stream",
     "text": [
      "Acc: 0.77371239163692\n"
     ]
    }
   ],
   "source": [
    "# Test\n",
    "with torch.no_grad():\n",
    "    num_correct = 0\n",
    "    num_samples = 0\n",
    "    for counts, labels in test_loader:\n",
    "        counts = counts.to(device)\n",
    "        labels = labels.to(device)\n",
    "        outputs = model(counts)\n",
    "\n",
    "        _, predictions = torch.max(outputs,1)\n",
    "        num_correct += (predictions == labels).sum().item()\n",
    "        num_samples += labels.shape[0]\n",
    "\n",
    "    print(f'Acc: {num_correct/num_samples}')"
   ]
  }
 ],
 "metadata": {
  "kernelspec": {
   "display_name": "Python 3",
   "language": "python",
   "name": "python3"
  },
  "language_info": {
   "codemirror_mode": {
    "name": "ipython",
    "version": 3
   },
   "file_extension": ".py",
   "mimetype": "text/x-python",
   "name": "python",
   "nbconvert_exporter": "python",
   "pygments_lexer": "ipython3",
   "version": "3.10.0"
  }
 },
 "nbformat": 4,
 "nbformat_minor": 2
}
